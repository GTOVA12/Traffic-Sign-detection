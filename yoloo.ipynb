{
  "nbformat": 4,
  "nbformat_minor": 0,
  "metadata": {
    "colab": {
      "private_outputs": true,
      "provenance": []
    },
    "kernelspec": {
      "name": "python3",
      "display_name": "Python 3"
    },
    "language_info": {
      "name": "python"
    },
    "accelerator": "GPU",
    "gpuClass": "standard"
  },
  "cells": [
    {
      "cell_type": "code",
      "execution_count": null,
      "metadata": {
        "id": "azWGSwgy9VVV"
      },
      "outputs": [],
      "source": [
        "!git clone https://github.com/ultralytics/yolov5"
      ]
    },
    {
      "cell_type": "code",
      "source": [
        "cd yolov5"
      ],
      "metadata": {
        "id": "8tyDVJU0_ywe"
      },
      "execution_count": null,
      "outputs": []
    },
    {
      "cell_type": "code",
      "source": [
        "!pip install -r requirements.txt"
      ],
      "metadata": {
        "id": "uyI1syiq_3WZ"
      },
      "execution_count": null,
      "outputs": []
    },
    {
      "cell_type": "code",
      "source": [
        "from google.colab import drive\n",
        "drive.mount('/content/drive')"
      ],
      "metadata": {
        "id": "44Nlu0PEBShZ"
      },
      "execution_count": null,
      "outputs": []
    },
    {
      "cell_type": "code",
      "source": [
        "! pip install -q kaggle"
      ],
      "metadata": {
        "id": "H5XAORLACC0u"
      },
      "execution_count": null,
      "outputs": []
    },
    {
      "cell_type": "code",
      "source": [
        "! mkdir ~/.kaggle/"
      ],
      "metadata": {
        "id": "4Eq08LruCvGB"
      },
      "execution_count": null,
      "outputs": []
    },
    {
      "cell_type": "code",
      "source": [
        "! cp '/content/drive/MyDrive/kaggle/kaggle.json' ~/.kaggle/"
      ],
      "metadata": {
        "id": "DAITUM7HC0YR"
      },
      "execution_count": null,
      "outputs": []
    },
    {
      "cell_type": "code",
      "source": [
        "! chmod 600 ~/.kaggle/kaggle.json"
      ],
      "metadata": {
        "id": "X41puq9NC_cH"
      },
      "execution_count": null,
      "outputs": []
    },
    {
      "cell_type": "code",
      "source": [
        "!kaggle datasets list"
      ],
      "metadata": {
        "id": "-Xai2JyZDC_a"
      },
      "execution_count": null,
      "outputs": []
    },
    {
      "cell_type": "code",
      "source": [
        "! kaggle datasets download -d andrewmvd/road-sign-detection"
      ],
      "metadata": {
        "id": "-9gAn1j1DE5h"
      },
      "execution_count": null,
      "outputs": []
    },
    {
      "cell_type": "code",
      "source": [
        "! unzip /content/yolov5/road-sign-detection.zip -d Sign_detect"
      ],
      "metadata": {
        "id": "oeUAZKmTDaiO"
      },
      "execution_count": null,
      "outputs": []
    },
    {
      "cell_type": "code",
      "source": [
        "import xml.etree.ElementTree as ET\n",
        "import os\n",
        "from tqdm import tqdm\n",
        "import pandas as pd"
      ],
      "metadata": {
        "id": "3eT_RGrf_5BJ"
      },
      "execution_count": null,
      "outputs": []
    },
    {
      "cell_type": "code",
      "source": [
        "input_path = '/content/yolov5/Sign_detect'\n",
        "output_path = '/kaggle/working/yolov5'"
      ],
      "metadata": {
        "id": "Kzr0KP7eASUL"
      },
      "execution_count": null,
      "outputs": []
    },
    {
      "cell_type": "code",
      "source": [
        "annotations_path = os.path.join(input_path, 'annotations')\n",
        "annotations = os.listdir(annotations_path)"
      ],
      "metadata": {
        "id": "3vI6r7cfAUMN"
      },
      "execution_count": null,
      "outputs": []
    },
    {
      "cell_type": "code",
      "source": [
        "img_name_list = []\n",
        "width_list = []\n",
        "height_list = []\n",
        "label_list = []\n",
        "xmin_list = []\n",
        "ymin_list = []\n",
        "xmax_list = []\n",
        "ymax_list = []\n",
        "\n",
        "for idx in tqdm(range(len(annotations))):\n",
        "\n",
        "    tree = ET.parse(os.path.join(annotations_path, annotations[idx]))\n",
        "    root = tree.getroot()\n",
        "\n",
        "    img_name = root.find('filename').text\n",
        "\n",
        "    size = root.find('size')\n",
        "    width = size.find('width').text\n",
        "    height = size.find('height').text\n",
        "\n",
        "    for group in root.findall('object'):\n",
        "        label = group.find('name').text\n",
        "        bbox = group.find('bndbox')\n",
        "        xmin = bbox.find('xmin').text\n",
        "        ymin = bbox.find('ymin').text\n",
        "        xmax = bbox.find('xmax').text\n",
        "        ymax = bbox.find('ymax').text\n",
        "\n",
        "        img_name_list.append(img_name)\n",
        "        width_list.append(width)\n",
        "        height_list.append(height)\n",
        "        xmin_list.append(xmin)\n",
        "        ymin_list.append(ymin)\n",
        "        xmax_list.append(xmax)\n",
        "        ymax_list.append(ymax)\n",
        "        label_list.append(label)"
      ],
      "metadata": {
        "id": "oGajz-4vErCV"
      },
      "execution_count": null,
      "outputs": []
    },
    {
      "cell_type": "code",
      "source": [
        "labels_df = pd.DataFrame({\n",
        "                        'img_name': img_name_list,\n",
        "                        'width': width_list,\n",
        "                        'height': height_list,\n",
        "                        'xmin': xmin_list,\n",
        "                        'ymin': ymin_list,\n",
        "                        'xmax': xmax_list,\n",
        "                        'ymax': ymax_list,\n",
        "                        'label': label_list})\n",
        "labels_df.head()"
      ],
      "metadata": {
        "id": "gZaWML1CFIro"
      },
      "execution_count": null,
      "outputs": []
    },
    {
      "cell_type": "code",
      "source": [
        "len(labels_df)"
      ],
      "metadata": {
        "id": "T_EUNUdCJwQX"
      },
      "execution_count": null,
      "outputs": []
    },
    {
      "cell_type": "code",
      "source": [
        "!pip install pybboxes"
      ],
      "metadata": {
        "id": "n1iFGzr0F1k9"
      },
      "execution_count": null,
      "outputs": []
    },
    {
      "cell_type": "code",
      "source": [
        "import numpy as np\n",
        "import pandas as pd\n",
        "import os\n",
        "import pybboxes as pbx\n",
        "from collections import defaultdict\n",
        "from tqdm import tqdm\n",
        "import shutil"
      ],
      "metadata": {
        "id": "iW3vrpxEF2Lc"
      },
      "execution_count": null,
      "outputs": []
    },
    {
      "cell_type": "code",
      "source": [
        "classes = labels_df['label'].unique().tolist()\n",
        "classes"
      ],
      "metadata": {
        "id": "rX_erJSHF6fB"
      },
      "execution_count": null,
      "outputs": []
    },
    {
      "cell_type": "code",
      "source": [
        "## Add class number associated to classes\n",
        "labels_df['class'] = labels_df['label'].apply(lambda x: classes.index(x))\n",
        "labels_df.head()"
      ],
      "metadata": {
        "id": "Sbr-imIaGBYj"
      },
      "execution_count": null,
      "outputs": []
    },
    {
      "cell_type": "code",
      "source": [
        "len(labels_df)"
      ],
      "metadata": {
        "id": "GkwVgiA3JU53"
      },
      "execution_count": null,
      "outputs": []
    },
    {
      "cell_type": "code",
      "source": [
        "len(labels_df)"
      ],
      "metadata": {
        "id": "CR388dmpJYv4"
      },
      "execution_count": null,
      "outputs": []
    },
    {
      "cell_type": "code",
      "source": [
        "## Generate dictionary where key is image_name and value is list of all bboxes inforamtion\n",
        "img_dict = defaultdict(list)\n",
        "\n",
        "for idx in tqdm(range(len(labels_df))):\n",
        "    sample_label_list = []\n",
        "    img_name = labels_df.loc[idx, 'img_name']\n",
        "    xmin = labels_df.loc[idx, 'xmin']\n",
        "    ymin = labels_df.loc[idx, 'ymin']\n",
        "    xmax = labels_df.loc[idx, 'xmax']\n",
        "    ymax = labels_df.loc[idx, 'ymax']\n",
        "    class_num = labels_df.loc[idx, 'class']\n",
        "    W, H = int(labels_df.loc[idx, 'width']), int(labels_df.loc[idx, 'height'])\n",
        "\n",
        "    voc_bbox = (int(xmin), int(ymin) ,int(xmax), int(ymax))\n",
        "\n",
        "    x_center, y_center, w, h = pbx.convert_bbox(voc_bbox, from_type=\"voc\", to_type=\"yolo\", image_size=(W,H))\n",
        "\n",
        "    sample_label_list.append(str(class_num))\n",
        "    sample_label_list.append(str(x_center))\n",
        "    sample_label_list.append(str(y_center))\n",
        "    sample_label_list.append(str(w))\n",
        "    sample_label_list.append(str(h))\n",
        "    line = ' '.join(sample_label_list)\n",
        "\n",
        "    img_dict[img_name].append(line)"
      ],
      "metadata": {
        "id": "6MlsBBD-GORc"
      },
      "execution_count": null,
      "outputs": []
    },
    {
      "cell_type": "code",
      "source": [
        "output_path = '/content/yolov5'"
      ],
      "metadata": {
        "id": "Wm6rFc1-LUMw"
      },
      "execution_count": null,
      "outputs": []
    },
    {
      "cell_type": "code",
      "source": [
        "# make labels dir in data folder of yolov5\n",
        "labels_dir = f'{output_path}/data/labels'\n",
        "if os.path.exists(labels_dir):\n",
        "    shutil.rmtree(labels_dir)\n",
        "os.mkdir(labels_dir)"
      ],
      "metadata": {
        "id": "6qiG-toiGjRm"
      },
      "execution_count": null,
      "outputs": []
    },
    {
      "cell_type": "code",
      "source": [
        "## Generate .txt file for each image\n",
        "for img_name, lines in img_dict.items():\n",
        "    img_name = img_name.split('.')[0]\n",
        "    with open(f'{labels_dir}/{img_name}.txt', 'w') as f:\n",
        "        for line in lines:\n",
        "            f.write(line)\n",
        "            f.write('\\n')"
      ],
      "metadata": {
        "id": "PziJLk_fLmoK"
      },
      "execution_count": null,
      "outputs": []
    },
    {
      "cell_type": "markdown",
      "source": [
        "Generate train, val ***split***"
      ],
      "metadata": {
        "id": "AT0_p1F0MGVY"
      }
    },
    {
      "cell_type": "code",
      "source": [
        "import os\n",
        "import shutil\n",
        "from random import shuffle"
      ],
      "metadata": {
        "id": "uFKJcSmDMDY0"
      },
      "execution_count": null,
      "outputs": []
    },
    {
      "cell_type": "code",
      "source": [
        "images_path = input_path + '/images'\n",
        "labels_path = labels_dir   ## directory having labels in .txt format"
      ],
      "metadata": {
        "id": "JR8Uk3mgMOSP"
      },
      "execution_count": null,
      "outputs": []
    },
    {
      "cell_type": "code",
      "source": [
        "# create train , val folders in data directory of yolov5\n",
        "train_dir = output_path + '/data/train'\n",
        "val_dir = output_path + '/data/val'\n",
        "\n",
        "if os.path.exists(train_dir):\n",
        "    shutil.rmtree(train_dir)\n",
        "\n",
        "if os.path.exists(val_dir):\n",
        "    shutil.rmtree(val_dir)\n",
        "\n",
        "os.mkdir(train_dir)\n",
        "os.mkdir(val_dir)\n",
        "\n",
        "# train, val each containing images and labels folders\n",
        "os.mkdir(train_dir + '/images')\n",
        "os.mkdir(train_dir + '/labels')\n",
        "os.mkdir(val_dir + '/images')\n",
        "os.mkdir(val_dir + '/labels')"
      ],
      "metadata": {
        "id": "GZLYRBddMRLk"
      },
      "execution_count": null,
      "outputs": []
    },
    {
      "cell_type": "code",
      "source": [
        "# Shuffle image file names before splitting into train and val data\n",
        "files = os.listdir(images_path)\n",
        "shuffle(files)"
      ],
      "metadata": {
        "id": "TtEpXJSXMqlU"
      },
      "execution_count": null,
      "outputs": []
    },
    {
      "cell_type": "code",
      "source": [
        "def split(files, ratio):\n",
        "    elements = len(files)\n",
        "    middle = int(elements * ratio)\n",
        "    return [files[:middle], files[middle:]]\n",
        "\n",
        "def copy_files(images_path, labels_path, destination_path, files):\n",
        "\n",
        "    for file_name in files:\n",
        "        file_name = file_name.split('.')[0]\n",
        "\n",
        "        src = images_path + f'/{file_name}.png'\n",
        "        dst = destination_path + '/images'\n",
        "        shutil.copy(src, dst)\n",
        "\n",
        "        src = labels_path + f'/{file_name}.txt'\n",
        "        dst = destination_path + '/labels'\n",
        "        shutil.copy(src, dst)"
      ],
      "metadata": {
        "id": "g_14c8g9M03-"
      },
      "execution_count": null,
      "outputs": []
    },
    {
      "cell_type": "code",
      "source": [
        "images_path, labels_path, train_dir"
      ],
      "metadata": {
        "id": "_zdMgezaPRu_"
      },
      "execution_count": null,
      "outputs": []
    },
    {
      "cell_type": "code",
      "source": [
        "# Split and copy files in train and val folder\n",
        "train_ratio = 0.75\n",
        "train_files, val_files = split(files, train_ratio)\n",
        "\n",
        "#root = 'data/traffic_sign_data'\n",
        "\n",
        "copy_files(images_path, labels_path, train_dir, train_files)\n",
        "copy_files(images_path, labels_path, val_dir, val_files)"
      ],
      "metadata": {
        "id": "hJOZ71RrPh18"
      },
      "execution_count": null,
      "outputs": []
    },
    {
      "cell_type": "code",
      "source": [
        "assert (len(os.listdir(train_dir + '/images')) + len(os.listdir(val_dir + '/images')) == len(os.listdir(images_path)))"
      ],
      "metadata": {
        "id": "Njpj3aOvQ3Zp"
      },
      "execution_count": null,
      "outputs": []
    },
    {
      "cell_type": "markdown",
      "source": [
        "Generate YAML file"
      ],
      "metadata": {
        "id": "S-ka8OioRA39"
      }
    },
    {
      "cell_type": "code",
      "source": [
        "with open(f'{output_path}/data/sign_data.yaml', 'w') as f:\n",
        "    f.write('train: ../data/train/images\\n')\n",
        "    f.write('val: ../data/val/images\\n')\n",
        "    f.write('nc: 4\\n')\n",
        "    f.write(f\"names: {classes}\")"
      ],
      "metadata": {
        "id": "6wx-2XX4Q8-e"
      },
      "execution_count": null,
      "outputs": []
    },
    {
      "cell_type": "code",
      "source": [],
      "metadata": {
        "id": "AWTyxs9pWwdt"
      },
      "execution_count": null,
      "outputs": []
    },
    {
      "cell_type": "code",
      "source": [
        "epochs = 20\n",
        "!python train.py --img 640 --batch 16 --epochs {epochs} --data sign_data.yaml --weights yolov5s.pt"
      ],
      "metadata": {
        "id": "LwVmUAdeRFro"
      },
      "execution_count": null,
      "outputs": []
    },
    {
      "cell_type": "code",
      "source": [
        "# results stored in runs/train\n",
        "# get the last stored result\n",
        "exp = sorted(os.listdir(output_path + '/runs/train'))[-1]\n",
        "exp_path = output_path + '/runs/train/' + exp"
      ],
      "metadata": {
        "id": "ditOzD3pT7Oh"
      },
      "execution_count": null,
      "outputs": []
    },
    {
      "cell_type": "code",
      "source": [
        "exp_path"
      ],
      "metadata": {
        "id": "215YJ8CXUAh1"
      },
      "execution_count": null,
      "outputs": []
    },
    {
      "cell_type": "code",
      "source": [
        "os.listdir(exp_path)"
      ],
      "metadata": {
        "id": "4VuVctkiUB_t"
      },
      "execution_count": null,
      "outputs": []
    },
    {
      "cell_type": "code",
      "source": [
        "import matplotlib.pyplot as plt\n",
        "from PIL import Image"
      ],
      "metadata": {
        "id": "zRVI-_eDUIRr"
      },
      "execution_count": null,
      "outputs": []
    },
    {
      "cell_type": "code",
      "source": [
        "img_path = exp_path + '/val_batch0_pred.jpg'\n",
        "img = Image.open(img_path)\n",
        "plt.figure(figsize=(15, 15))\n",
        "plt.imshow(img)"
      ],
      "metadata": {
        "id": "pd2h0eRbUN86"
      },
      "execution_count": null,
      "outputs": []
    },
    {
      "cell_type": "code",
      "source": [
        "!python detect.py --source /content/drive/MyDrive/test --weights /content/drive/MyDrive/model_yolo/best.pt --img 416 --save-txt --save-conf\n"
      ],
      "metadata": {
        "id": "lgobGULVaU-5"
      },
      "execution_count": null,
      "outputs": []
    },
    {
      "cell_type": "code",
      "source": [
        "#display result images\n",
        "\n",
        "import glob\n",
        "from IPython.display import Image, display\n",
        "\n",
        "for imageName in glob.glob('/content/yolov5/runs/detect/exp4/*.jpg'): #assuming JPG\n",
        "    display(Image(filename=imageName))\n",
        "    print(\"\\n\")"
      ],
      "metadata": {
        "id": "MV2enSMqax8X"
      },
      "execution_count": null,
      "outputs": []
    }
  ]
}